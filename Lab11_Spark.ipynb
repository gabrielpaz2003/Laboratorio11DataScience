{
  "cells": [
    {
      "cell_type": "markdown",
      "id": "74d29edf",
      "metadata": {
        "id": "74d29edf"
      },
      "source": [
        "# Lab 11 – Regresión Logística con **PySpark** (Customer Churn)\n",
        "\n",
        "Meta: entrenar un modelo de **churn** usando `pyspark.ml` y aplicarlo a clientes nuevos.\n",
        "\n",
        "Archivos esperados en el mismo folder:\n",
        "- `abandono_clientes.csv`  (histórico con `Churn`)\n",
        "- `clientes_nuevos.csv`    (sin `Churn`)\n",
        "\n"
      ]
    },
    {
      "cell_type": "code",
      "execution_count": 7,
      "id": "68e832b3",
      "metadata": {
        "id": "68e832b3"
      },
      "outputs": [],
      "source": [
        "# --- setup spark ---\n",
        "from pyspark.sql import SparkSession\n",
        "spark = (SparkSession.builder\n",
        "         .appName(\"Lab11-RLog-Spark\")\n",
        "         .getOrCreate())\n",
        "\n",
        "spark.sparkContext.setLogLevel(\"WARN\")\n"
      ]
    },
    {
      "cell_type": "code",
      "execution_count": 8,
      "id": "398e2c9d",
      "metadata": {
        "colab": {
          "base_uri": "https://localhost:8080/"
        },
        "id": "398e2c9d",
        "outputId": "bc693974-cd55-4a99-c9a8-7b5fb5868433"
      },
      "outputs": [
        {
          "name": "stdout",
          "output_type": "stream",
          "text": [
            "root\n",
            " |-- Names: string (nullable = true)\n",
            " |-- Age: double (nullable = true)\n",
            " |-- Total_Purchase: double (nullable = true)\n",
            " |-- Account_Manager: integer (nullable = true)\n",
            " |-- Years: double (nullable = true)\n",
            " |-- Num_Sites: double (nullable = true)\n",
            " |-- Onboard_date: timestamp (nullable = true)\n",
            " |-- Location: string (nullable = true)\n",
            " |-- Company: string (nullable = true)\n",
            " |-- Churn: integer (nullable = true)\n",
            "\n",
            "+----------------+----+--------------+---------------+-----+---------+-------------------+--------------------------------------------------+---------------------------+-----+\n",
            "|Names           |Age |Total_Purchase|Account_Manager|Years|Num_Sites|Onboard_date       |Location                                          |Company                    |Churn|\n",
            "+----------------+----+--------------+---------------+-----+---------+-------------------+--------------------------------------------------+---------------------------+-----+\n",
            "|Cameron Williams|42.0|11066.8       |0              |7.22 |8.0      |2013-08-30 07:00:40|10265 Elizabeth Mission Barkerburgh, AK 89518     |Harvey LLC                 |1    |\n",
            "|Kevin Mueller   |41.0|11916.22      |0              |6.5  |11.0     |2013-08-13 00:38:46|6157 Frank Gardens Suite 019 Carloshaven, RI 17756|Wilson PLC                 |1    |\n",
            "|Eric Lozano     |38.0|12884.75      |0              |6.67 |12.0     |2016-06-29 06:20:07|1331 Keith Court Alyssahaven, DE 90114            |Miller, Johnson and Wallace|1    |\n",
            "|Phillip White   |42.0|8010.76       |0              |6.71 |10.0     |2014-04-22 12:43:12|13120 Daniel Mount Angelabury, WY 30645-4695      |Smith Inc                  |1    |\n",
            "|Cynthia Norton  |37.0|9191.58       |0              |5.56 |9.0      |2016-01-19 15:31:15|765 Tricia Row Karenshire, MH 71730               |Love-Jones                 |1    |\n",
            "+----------------+----+--------------+---------------+-----+---------+-------------------+--------------------------------------------------+---------------------------+-----+\n",
            "only showing top 5 rows\n",
            "\n"
          ]
        }
      ],
      "source": [
        "# --- cargar datos ---\n",
        "hist_path = \"abandono_clientes.csv\"\n",
        "new_path = \"clientes_nuevos.csv\"\n",
        "\n",
        "df = spark.read.option(\"header\", True).option(\"inferSchema\", True).csv(hist_path)\n",
        "df_new = spark.read.option(\"header\", True).option(\"inferSchema\", True).csv(new_path)\n",
        "\n",
        "df.printSchema()\n",
        "df.show(5, truncate=False)\n"
      ]
    },
    {
      "cell_type": "code",
      "execution_count": 9,
      "id": "a3850edd",
      "metadata": {
        "colab": {
          "base_uri": "https://localhost:8080/"
        },
        "id": "a3850edd",
        "outputId": "ce830425-dbaf-4d95-c8ed-28423a15814a"
      },
      "outputs": [
        {
          "name": "stdout",
          "output_type": "stream",
          "text": [
            "+-----+-----+\n",
            "|Churn|count|\n",
            "+-----+-----+\n",
            "|    1|  150|\n",
            "|    0|  750|\n",
            "+-----+-----+\n",
            "\n"
          ]
        }
      ],
      "source": [
        "# --- detectar columna target ---\n",
        "# probable: Churn / churn / abandono / ABANDONO\n",
        "from pyspark.sql.functions import col\n",
        "\n",
        "candidates = [\"Churn\",\"churn\",\"abandono\",\"ABANDONO\"]\n",
        "target_col = None\n",
        "for c in candidates:\n",
        "    if c in df.columns:\n",
        "        target_col = c\n",
        "        break\n",
        "\n",
        "if target_col is None:\n",
        "    raise ValueError(\"No se encuentra columna target. Ajustar nombre aquí.\")\n",
        "\n",
        "# stats target\n",
        "df.groupBy(col(target_col)).count().show()\n"
      ]
    },
    {
      "cell_type": "code",
      "execution_count": 10,
      "id": "82d92bb2",
      "metadata": {
        "id": "82d92bb2"
      },
      "outputs": [],
      "source": [
        "# --- función de preparación de features ---\n",
        "from pyspark.sql import functions as F\n",
        "\n",
        "def prepare_features_spark(df, target_col):\n",
        "    # 1) columnas \"parecidas a fecha\" por NOMBRE, pero solo si son string\n",
        "    name_keys = ['date','fecha','fech','signup','created','updated','last','login','onboard']  # ojo: sin 'purchase'\n",
        "    dtypes = dict(df.dtypes)\n",
        "    name_date_cols = [c for c in df.columns\n",
        "                      if dtypes.get(c) == 'string' and any(k in c.lower() for k in name_keys)]\n",
        "\n",
        "    # 2) parser multi-formato (cast a string por si acaso)\n",
        "    def parse_multi(col_expr):\n",
        "        col_str = col_expr.cast('string')\n",
        "        return F.coalesce(\n",
        "            F.to_timestamp(col_str, \"yyyy-MM-dd HH:mm:ss\"),\n",
        "            F.to_timestamp(col_str, \"yyyy-MM-dd\"),\n",
        "            F.to_timestamp(col_str, \"MM/dd/yyyy HH:mm:ss\"),\n",
        "            F.to_timestamp(col_str, \"MM/dd/yyyy\"),\n",
        "            F.to_timestamp(col_str)  # fallback\n",
        "        )\n",
        "\n",
        "    df2 = df\n",
        "    for c in name_date_cols:\n",
        "        parsed = parse_multi(F.col(c))\n",
        "        df2 = df2.withColumn(f\"{c}_days_since\", F.datediff(F.current_date(), F.to_date(parsed)))\n",
        "\n",
        "    # 3) dropear columnas originales de fecha + ruido típico\n",
        "    drop_noise = [x for x in ['Name','Company','Location','ID','id','customer_id'] if x in df2.columns]\n",
        "    drop_cols = [c for c in name_date_cols if c != target_col] + drop_noise\n",
        "    if drop_cols:\n",
        "        df2 = df2.drop(*drop_cols)\n",
        "\n",
        "    return df2\n"
      ]
    },
    {
      "cell_type": "code",
      "execution_count": 11,
      "id": "g7XRj4-dzHp0",
      "metadata": {
        "colab": {
          "base_uri": "https://localhost:8080/"
        },
        "id": "g7XRj4-dzHp0",
        "outputId": "67287e18-cbf1-49af-bbd5-3befbc19993f"
      },
      "outputs": [
        {
          "name": "stdout",
          "output_type": "stream",
          "text": [
            "root\n",
            " |-- Names: string (nullable = true)\n",
            " |-- Age: double (nullable = true)\n",
            " |-- Total_Purchase: double (nullable = true)\n",
            " |-- Account_Manager: integer (nullable = true)\n",
            " |-- Years: double (nullable = true)\n",
            " |-- Num_Sites: double (nullable = true)\n",
            " |-- Onboard_date: timestamp (nullable = true)\n",
            " |-- Churn: double (nullable = true)\n",
            "\n",
            "+----------------+----+--------------+---------------+-----+---------+-------------------+-----+\n",
            "|Names           |Age |Total_Purchase|Account_Manager|Years|Num_Sites|Onboard_date       |Churn|\n",
            "+----------------+----+--------------+---------------+-----+---------+-------------------+-----+\n",
            "|Cameron Williams|42.0|11066.8       |0              |7.22 |8.0      |2013-08-30 07:00:40|1.0  |\n",
            "|Kevin Mueller   |41.0|11916.22      |0              |6.5  |11.0     |2013-08-13 00:38:46|1.0  |\n",
            "|Eric Lozano     |38.0|12884.75      |0              |6.67 |12.0     |2016-06-29 06:20:07|1.0  |\n",
            "|Phillip White   |42.0|8010.76       |0              |6.71 |10.0     |2014-04-22 12:43:12|1.0  |\n",
            "|Cynthia Norton  |37.0|9191.58       |0              |5.56 |9.0      |2016-01-19 15:31:15|1.0  |\n",
            "+----------------+----+--------------+---------------+-----+---------+-------------------+-----+\n",
            "only showing top 5 rows\n",
            "\n"
          ]
        }
      ],
      "source": [
        "# aplicar a histórico conservando la target\n",
        "df_final = prepare_features_spark(df, target_col)\n",
        "\n",
        "# asegurar tipo de la etiqueta (0/1 en double)\n",
        "df_final = df_final.withColumn(target_col, F.col(target_col).cast('double'))\n",
        "\n",
        "df_final.printSchema()\n",
        "df_final.show(5, truncate=False)\n",
        "\n",
        "# separar num/cat con el df_final ya preparado\n",
        "num_cols = [c for c, t in df_final.dtypes if t in ['int','bigint','double','float','decimal'] and c != target_col]\n",
        "cat_cols = [c for c, t in df_final.dtypes if t == 'string' and c != target_col]\n"
      ]
    },
    {
      "cell_type": "code",
      "execution_count": 12,
      "id": "a52816f4",
      "metadata": {
        "colab": {
          "base_uri": "https://localhost:8080/"
        },
        "id": "a52816f4",
        "outputId": "93096846-da9b-466f-8283-468d30bd586f"
      },
      "outputs": [
        {
          "name": "stdout",
          "output_type": "stream",
          "text": [
            "train: 713  test: 187\n"
          ]
        }
      ],
      "source": [
        "# --- split train/test ---\n",
        "train_df, test_df = df_final.randomSplit([0.75, 0.25], seed=42)\n",
        "\n",
        "print(\"train:\", train_df.count(), \" test:\", test_df.count())\n"
      ]
    },
    {
      "cell_type": "code",
      "execution_count": 13,
      "id": "19862397",
      "metadata": {
        "colab": {
          "base_uri": "https://localhost:8080/"
        },
        "id": "19862397",
        "outputId": "2f563065-406b-4036-aee2-eeaccc6f7f3e"
      },
      "outputs": [
        {
          "name": "stdout",
          "output_type": "stream",
          "text": [
            "+----------+------------------------------------------+-----+\n",
            "|prediction|probability                               |Churn|\n",
            "+----------+------------------------------------------+-----+\n",
            "|0.0       |[0.9999981528619737,1.8471380263118675E-6]|0.0  |\n",
            "|0.0       |[0.9999917130566132,8.286943386837109E-6] |0.0  |\n",
            "|0.0       |[0.9999990739045953,9.260954046963477E-7] |0.0  |\n",
            "|0.0       |[0.9998448821510113,1.5511784898869507E-4]|1.0  |\n",
            "|0.0       |[0.9999949908552945,5.009144705470092E-6] |0.0  |\n",
            "|0.0       |[0.9999990123746931,9.876253068696883E-7] |0.0  |\n",
            "|0.0       |[0.9999949158639628,5.084136037170062E-6] |0.0  |\n",
            "|0.0       |[0.9999999198216285,8.017837149765228E-8] |0.0  |\n",
            "|0.0       |[0.9999268017878354,7.319821216456024E-5] |1.0  |\n",
            "|0.0       |[0.9998141414902855,1.8585850971453155E-4]|1.0  |\n",
            "+----------+------------------------------------------+-----+\n",
            "only showing top 10 rows\n",
            "\n"
          ]
        }
      ],
      "source": [
        "# --- pipeline ML (Indexers, OneHot, Imputer, Assembler, Scaler, LR) ---\n",
        "from pyspark.ml import Pipeline\n",
        "from pyspark.ml.feature import StringIndexer, OneHotEncoder, VectorAssembler, StandardScaler, Imputer\n",
        "from pyspark.ml.classification import LogisticRegression\n",
        "\n",
        "# separar num/cat por tipo inferido\n",
        "num_cols = [c for c, t in train_df.dtypes if t in ['int','bigint','double','float','decimal'] and c != target_col]\n",
        "cat_cols = [c for c, t in train_df.dtypes if t == 'string' and c != target_col]\n",
        "\n",
        "# imputación en numéricas\n",
        "imputer = Imputer(inputCols=num_cols, outputCols=[f\"{c}_imp\" for c in num_cols])\n",
        "\n",
        "# index + one-hot en categóricas\n",
        "indexers = [StringIndexer(inputCol=c, outputCol=f\"{c}_idx\", handleInvalid=\"keep\") for c in cat_cols]\n",
        "encoders = [OneHotEncoder(inputCol=f\"{c}_idx\", outputCol=f\"{c}_oh\", handleInvalid=\"keep\") for c in cat_cols]\n",
        "\n",
        "num_imp_cols = [f\"{c}_imp\" for c in num_cols]\n",
        "cat_oh_cols = [f\"{c}_oh\" for c in cat_cols]\n",
        "\n",
        "assembler = VectorAssembler(inputCols=num_imp_cols + cat_oh_cols, outputCol=\"features_raw\")\n",
        "scaler = StandardScaler(withMean=True, withStd=True, inputCol=\"features_raw\", outputCol=\"features\")\n",
        "\n",
        "lr = LogisticRegression(featuresCol=\"features\", labelCol=target_col, maxIter=100)\n",
        "\n",
        "stages = [imputer] + indexers + encoders + [assembler, scaler, lr]\n",
        "pipe = Pipeline(stages=stages)\n",
        "\n",
        "model = pipe.fit(train_df)\n",
        "pred_test = model.transform(test_df)\n",
        "\n",
        "pred_test.select(\"prediction\",\"probability\",target_col).show(10, truncate=False)\n"
      ]
    },
    {
      "cell_type": "code",
      "execution_count": 17,
      "id": "5cd04e45",
      "metadata": {
        "colab": {
          "base_uri": "https://localhost:8080/",
          "height": 785
        },
        "id": "5cd04e45",
        "outputId": "3a7b39bb-b3d3-4cf4-e551-bf775bef4585"
      },
      "outputs": [
        {
          "name": "stdout",
          "output_type": "stream",
          "text": [
            "accuracy: 0.8021\n",
            "f1: 0.7192\n",
            "roc_auc: 0.89\n",
            "aupr: 0.746\n"
          ]
        },
        {
          "data": {
            "image/png": "[encoded data removed]",
            "text/plain": [
              "<Figure size 640x480 with 1 Axes>"
            ]
          },
          "metadata": {},
          "output_type": "display_data"
        },
        {
          "name": "stderr",
          "output_type": "stream",
          "text": [
            "/usr/local/lib/python3.12/dist-packages/pyspark/sql/context.py:158: FutureWarning: Deprecated in 3.0.0. Use SparkSession.builder.getOrCreate() instead.\n",
            "  warnings.warn(\n"
          ]
        },
        {
          "ename": "AttributeError",
          "evalue": "'BinaryClassificationMetrics' object has no attribute 'roc'",
          "output_type": "error",
          "traceback": [
            "\u001b[0;31m---------------------------------------------------------------------------\u001b[0m",
            "\u001b[0;31mAttributeError\u001b[0m                            Traceback (most recent call last)",
            "\u001b[0;32m/tmp/ipython-input-1366436094.py\u001b[0m in \u001b[0;36m<cell line: 0>\u001b[0;34m()\u001b[0m\n\u001b[1;32m    107\u001b[0m \u001b[0;34m\u001b[0m\u001b[0m\n\u001b[1;32m    108\u001b[0m \u001b[0mmetrics\u001b[0m \u001b[0;34m=\u001b[0m \u001b[0mBinaryClassificationMetrics\u001b[0m\u001b[0;34m(\u001b[0m\u001b[0mscore_and_labels_rdd\u001b[0m\u001b[0;34m)\u001b[0m\u001b[0;34m\u001b[0m\u001b[0;34m\u001b[0m\u001b[0m\n\u001b[0;32m--> 109\u001b[0;31m \u001b[0mroc_pts\u001b[0m \u001b[0;34m=\u001b[0m \u001b[0mmetrics\u001b[0m\u001b[0;34m.\u001b[0m\u001b[0mroc\u001b[0m\u001b[0;34m(\u001b[0m\u001b[0;34m)\u001b[0m\u001b[0;34m.\u001b[0m\u001b[0mmap\u001b[0m\u001b[0;34m(\u001b[0m\u001b[0;32mlambda\u001b[0m \u001b[0mx\u001b[0m\u001b[0;34m:\u001b[0m \u001b[0;34m(\u001b[0m\u001b[0mfloat\u001b[0m\u001b[0;34m(\u001b[0m\u001b[0mx\u001b[0m\u001b[0;34m[\u001b[0m\u001b[0;36m0\u001b[0m\u001b[0;34m]\u001b[0m\u001b[0;34m)\u001b[0m\u001b[0;34m,\u001b[0m \u001b[0mfloat\u001b[0m\u001b[0;34m(\u001b[0m\u001b[0mx\u001b[0m\u001b[0;34m[\u001b[0m\u001b[0;36m1\u001b[0m\u001b[0;34m]\u001b[0m\u001b[0;34m)\u001b[0m\u001b[0;34m)\u001b[0m\u001b[0;34m)\u001b[0m\u001b[0;34m.\u001b[0m\u001b[0mcollect\u001b[0m\u001b[0;34m(\u001b[0m\u001b[0;34m)\u001b[0m\u001b[0;34m\u001b[0m\u001b[0;34m\u001b[0m\u001b[0m\n\u001b[0m\u001b[1;32m    110\u001b[0m \u001b[0mroc_pd\u001b[0m  \u001b[0;34m=\u001b[0m \u001b[0mpd\u001b[0m\u001b[0;34m.\u001b[0m\u001b[0mDataFrame\u001b[0m\u001b[0;34m(\u001b[0m\u001b[0mroc_pts\u001b[0m\u001b[0;34m,\u001b[0m \u001b[0mcolumns\u001b[0m\u001b[0;34m=\u001b[0m\u001b[0;34m[\u001b[0m\u001b[0;34m\"FPR\"\u001b[0m\u001b[0;34m,\u001b[0m\u001b[0;34m\"TPR\"\u001b[0m\u001b[0;34m]\u001b[0m\u001b[0;34m)\u001b[0m\u001b[0;34m\u001b[0m\u001b[0;34m\u001b[0m\u001b[0m\n\u001b[1;32m    111\u001b[0m \u001b[0;34m\u001b[0m\u001b[0m\n",
            "\u001b[0;31mAttributeError\u001b[0m: 'BinaryClassificationMetrics' object has no attribute 'roc'"
          ]
        }
      ],
      "source": [
        "# --- EVALUACIÓN COMPLETA (métricas, matriz, ROC) ---\n",
        "from pyspark.ml.evaluation import BinaryClassificationEvaluator, MulticlassClassificationEvaluator\n",
        "from pyspark.mllib.evaluation import BinaryClassificationMetrics\n",
        "from pyspark.sql import functions as F\n",
        "import matplotlib.pyplot as plt\n",
        "import numpy as np\n",
        "import pandas as pd\n",
        "\n",
        "# 0) asegurar pred_test y target_col\n",
        "try:\n",
        "    pred_test\n",
        "except NameError:\n",
        "    # si se perdió, lo volvemos a generar\n",
        "    pred_test = model.transform(test_df)\n",
        "\n",
        "# intentar recuperar/asegurar target_col\n",
        "try:\n",
        "    target_col\n",
        "except NameError:\n",
        "    # heurística: usa nombres típicos o la primera binaria distinta de columnas técnicas\n",
        "    label_candidates = [\"Churn\",\"churn\",\"abandono\",\"ABANDONO\",\"label\",\"target\"]\n",
        "    target_col = None\n",
        "    for c in label_candidates:\n",
        "        if c in pred_test.columns:\n",
        "            target_col = c\n",
        "            break\n",
        "    if target_col is None:\n",
        "        ignore = {\"prediction\",\"rawPrediction\",\"probability\",\"features\"}\n",
        "        numeric_cols = [c for c, t in pred_test.dtypes if t in (\"int\",\"bigint\",\"double\",\"float\",\"decimal\") and c not in ignore]\n",
        "        def looks_binary(col):\n",
        "            vals = (pred_test.select(F.col(col).cast(\"double\"))\n",
        "                              .distinct().na.drop().limit(3)\n",
        "                              .rdd.map(lambda r: r[0]).collect())\n",
        "            try:\n",
        "                s = set(int(float(x)) for x in vals)\n",
        "                return s.issubset({0,1}) and len(s) >= 1\n",
        "            except Exception:\n",
        "                return False\n",
        "        for c in numeric_cols:\n",
        "            if looks_binary(c):\n",
        "                target_col = c\n",
        "                break\n",
        "    if target_col is None:\n",
        "        target_col = \"Churn\"  # último recurso\n",
        "\n",
        "# 1) sanity de columnas clave\n",
        "need = [\"prediction\", \"rawPrediction\", \"probability\", target_col]\n",
        "missing = [c for c in need if c not in pred_test.columns]\n",
        "if missing:\n",
        "    # si falta la etiqueta, re-crea pred_test desde test_df (Spark conserva la etiqueta por default)\n",
        "    if target_col in test_df.columns:\n",
        "        pred_test = model.transform(test_df)\n",
        "        missing = [c for c in need if c not in pred_test.columns]\n",
        "    if missing:\n",
        "        raise ValueError(f\"Faltan columnas en pred_test: {missing}\")\n",
        "\n",
        "# 2) castear por si vienen como string/float\n",
        "pred_eval = (pred_test\n",
        "             .withColumn(target_col, F.col(target_col).cast(\"double\"))\n",
        "             .withColumn(\"prediction\", F.col(\"prediction\").cast(\"double\")))\n",
        "\n",
        "# 3) métricas globales\n",
        "e_auc = BinaryClassificationEvaluator(rawPredictionCol=\"rawPrediction\", labelCol=target_col, metricName=\"areaUnderROC\")\n",
        "e_pr  = BinaryClassificationEvaluator(rawPredictionCol=\"rawPrediction\", labelCol=target_col, metricName=\"areaUnderPR\")\n",
        "e_acc = MulticlassClassificationEvaluator(predictionCol=\"prediction\", labelCol=target_col, metricName=\"accuracy\")\n",
        "e_f1  = MulticlassClassificationEvaluator(predictionCol=\"prediction\", labelCol=target_col, metricName=\"f1\")\n",
        "\n",
        "auc  = e_auc.evaluate(pred_eval)\n",
        "aupr = e_pr.evaluate(pred_eval)\n",
        "acc  = e_acc.evaluate(pred_eval)\n",
        "f1   = e_f1.evaluate(pred_eval)\n",
        "\n",
        "print(\"accuracy:\", round(acc, 4))\n",
        "print(\"f1:\", round(f1, 4))\n",
        "print(\"roc_auc:\", round(auc, 4))\n",
        "print(\"aupr:\", round(aupr, 4))\n",
        "\n",
        "# 4) matriz de confusión 2x2\n",
        "cm_pd = (pred_eval\n",
        "         .groupBy(F.col(target_col).cast(\"int\").alias(\"y\"),\n",
        "                  F.col(\"prediction\").cast(\"int\").alias(\"yhat\"))\n",
        "         .count()\n",
        "         .toPandas())\n",
        "\n",
        "cm = np.zeros((2, 2), dtype=int)\n",
        "for _, r in cm_pd.iterrows():\n",
        "    i = int(r[\"y\"]) if r[\"y\"] in (0,1) else 0\n",
        "    j = int(r[\"yhat\"]) if r[\"yhat\"] in (0,1) else 0\n",
        "    cm[i, j] += int(r[\"count\"])\n",
        "\n",
        "fig = plt.figure()\n",
        "plt.imshow(cm, interpolation=\"nearest\")\n",
        "plt.title(f\"Matriz de confusión (label='{target_col}')\")\n",
        "plt.xlabel(\"Predicho\")\n",
        "plt.ylabel(\"Real\")\n",
        "for (i, j), z in np.ndenumerate(cm):\n",
        "    plt.text(j, i, str(z), ha='center', va='center')\n",
        "plt.tight_layout()\n",
        "plt.show()\n",
        "\n",
        "# 5) Curva ROC (robusta con MLLib)\n",
        "# Usa probability[:,1] como score y la etiqueta como label\n",
        "score_and_labels_rdd = (pred_eval\n",
        "    .select(F.col(\"probability\"), F.col(target_col))\n",
        "    .rdd\n",
        "    .map(lambda r: (float(r[\"probability\"][1]), float(r[target_col]))))\n",
        "\n",
        "metrics = BinaryClassificationMetrics(score_and_labels_rdd)\n",
        "roc_pts = metrics.roc().map(lambda x: (float(x[0]), float(x[1]))).collect()\n",
        "roc_pd  = pd.DataFrame(roc_pts, columns=[\"FPR\",\"TPR\"])\n",
        "\n",
        "fig = plt.figure()\n",
        "plt.plot(roc_pd[\"FPR\"], roc_pd[\"TPR\"])\n",
        "plt.plot([0,1],[0,1],'--')\n",
        "plt.xlabel(\"FPR\")\n",
        "plt.ylabel(\"TPR\")\n",
        "plt.title(\"ROC (test)\")\n",
        "plt.tight_layout()\n",
        "plt.show()\n"
      ]
    },
    {
      "cell_type": "code",
      "execution_count": 19,
      "id": "18e501ac",
      "metadata": {
        "colab": {
          "base_uri": "https://localhost:8080/"
        },
        "id": "18e501ac",
        "outputId": "60b8d9ba-7f64-436c-c23b-ea58caf52dd0"
      },
      "outputs": [
        {
          "name": "stdout",
          "output_type": "stream",
          "text": [
            "OK -> predicciones_clientes_nuevos.csv\n"
          ]
        }
      ],
      "source": [
        "# --- PREDICCIÓN CLIENTES NUEVOS + CSV ---\n",
        "from pyspark.sql import functions as F\n",
        "from pyspark.sql.types import DoubleType\n",
        "from pyspark.sql.functions import udf\n",
        "import pandas as pd\n",
        "\n",
        "# preparar igual que train (re-usa tu función)\n",
        "df_new_feat = prepare_features_spark(df_new, target_col)\n",
        "if target_col in df_new_feat.columns:\n",
        "    df_new_feat = df_new_feat.drop(target_col)\n",
        "\n",
        "pred_new = model.transform(df_new_feat)\n",
        "\n",
        "def prob1(v):\n",
        "    try:\n",
        "        return float(v[1])\n",
        "    except Exception:\n",
        "        return None\n",
        "\n",
        "prob1_udf = udf(prob1, DoubleType())\n",
        "\n",
        "out = (pred_new\n",
        "       .withColumn(\"Churn_proba\", prob1_udf(\"probability\"))\n",
        "       .withColumn(\"Churn_pred\", F.col(\"prediction\").cast(\"int\"))\n",
        "       .withColumn(\"Asignar_Gerente\", (F.col(\"Churn_proba\") >= F.lit(0.5)).cast(\"int\")))\n",
        "\n",
        "# exporta manteniendo columnas originales de df_new al frente\n",
        "cols_out = [c for c in df_new.columns if c in out.columns] + [\"Churn_pred\",\"Churn_proba\",\"Asignar_Gerente\"]\n",
        "(out.select(*cols_out)\n",
        "   .toPandas()\n",
        "   .to_csv(\"predicciones_clientes_nuevos.csv\", index=False))\n",
        "\n",
        "print(\"OK -> predicciones_clientes_nuevos.csv\")\n"
      ]
    },
    {
      "cell_type": "code",
      "execution_count": null,
      "id": "558fdb87",
      "metadata": {
        "id": "558fdb87"
      },
      "outputs": [],
      "source": [
        "# --- guardar modelo spark (opcional) ---\n",
        "# crea carpeta 'spark_lr_model' con el pipeline entrenado\n",
        "model.write().overwrite().save(\"spark_lr_model\")\n",
        "\"modelo spark guardado\"\n"
      ]
    },
    {
      "cell_type": "markdown",
      "id": "3b91e37d",
      "metadata": {
        "id": "3b91e37d"
      },
      "source": [
        "# Conclusiones – Regresión Logística con **PySpark** (Churn)\n",
        "\n",
        "### Métricas en test\n",
        "- **Accuracy:** 0.8021  \n",
        "- **F1 (weighted):** 0.7192  \n",
        "- **ROC-AUC:** 0.89  \n",
        "- **AUPR:** 0.746  \n",
        "\n",
        "> AUC alto → el modelo ordena bien por probabilidad, pero con umbral 0.5 casi no predice “churn”.\n",
        "\n",
        "### Matriz de confusión (umbral 0.5)\n",
        "- **TN = 149**, **FP = 0**, **FN = 37**, **TP = 1**  \n",
        "- Hay **recall bajo** en la clase churn (muchos FN).\n",
        "\n",
        "### Conclusión\n",
        "- El modelo **aprendió** (ROC-AUC 0.89), pero el **umbral 0.5 no es adecuado** para detectar churn.\n",
        "- La F1 ponderada se ve aceptable por la mayoría de clase 0; la F1 de “churn” es **baja**.\n",
        "\n",
        "\n"
      ]
    }
  ],
  "metadata": {
    "colab": {
      "provenance": []
    },
    "kernelspec": {
      "display_name": "Python 3",
      "name": "python3"
    },
    "language_info": {
      "name": "python"
    }
  },
  "nbformat": 4,
  "nbformat_minor": 5
}
